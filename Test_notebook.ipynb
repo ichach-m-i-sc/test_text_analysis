{
 "cells": [
  {
   "cell_type": "code",
   "execution_count": 1,
   "metadata": {},
   "outputs": [],
   "source": [
    "import ParserICHack\n"
   ]
  },
  {
   "cell_type": "code",
   "execution_count": 2,
   "metadata": {},
   "outputs": [],
   "source": [
    "parser = ParserICHack.ParserICHack()\n"
   ]
  },
  {
   "cell_type": "code",
   "execution_count": 3,
   "metadata": {},
   "outputs": [],
   "source": [
    "parser.reset_date()"
   ]
  },
  {
   "cell_type": "code",
   "execution_count": 4,
   "metadata": {},
   "outputs": [],
   "source": [
    "Text1 = \"We need to organise the next meeting with the french company\"\n",
    "Text2 = \"Ok, let's start the bot\""
   ]
  },
  {
   "cell_type": "code",
   "execution_count": 5,
   "metadata": {},
   "outputs": [],
   "source": [
    "parser.manage_text(Text1)"
   ]
  },
  {
   "cell_type": "code",
   "execution_count": 6,
   "metadata": {},
   "outputs": [],
   "source": [
    "parser.manage_text(Text2)"
   ]
  },
  {
   "cell_type": "code",
   "execution_count": 7,
   "metadata": {},
   "outputs": [
    {
     "name": "stdout",
     "output_type": "stream",
     "text": [
      "([], [])\n"
     ]
    }
   ],
   "source": [
    "print(parser.get_best_date(3))"
   ]
  },
  {
   "cell_type": "code",
   "execution_count": 8,
   "metadata": {},
   "outputs": [],
   "source": [
    "Text3 = \"I will be there the 28th\""
   ]
  },
  {
   "cell_type": "code",
   "execution_count": 9,
   "metadata": {},
   "outputs": [],
   "source": [
    "parser.manage_text(Text3)"
   ]
  },
  {
   "cell_type": "code",
   "execution_count": 10,
   "metadata": {},
   "outputs": [
    {
     "name": "stdout",
     "output_type": "stream",
     "text": [
      "([datetime.date(2019, 1, 28)], ['I'])\n"
     ]
    }
   ],
   "source": [
    "print(parser.get_best_date(3))"
   ]
  },
  {
   "cell_type": "code",
   "execution_count": 11,
   "metadata": {},
   "outputs": [
    {
     "name": "stdout",
     "output_type": "stream",
     "text": [
      "['I']\n"
     ]
    }
   ],
   "source": [
    "import datetime\n",
    "print(parser.get_availability(datetime.date(2019, 1, 28)))"
   ]
  },
  {
   "cell_type": "code",
   "execution_count": 12,
   "metadata": {},
   "outputs": [],
   "source": [
    "Text4 = \"For me the 28th is not possible, it should be the 29th then\""
   ]
  },
  {
   "cell_type": "code",
   "execution_count": 13,
   "metadata": {},
   "outputs": [],
   "source": [
    "parser.manage_text(Text4)"
   ]
  },
  {
   "cell_type": "code",
   "execution_count": 14,
   "metadata": {},
   "outputs": [
    {
     "name": "stdout",
     "output_type": "stream",
     "text": [
      "([datetime.date(2019, 1, 29), datetime.date(2019, 1, 28)], ['it'])\n"
     ]
    }
   ],
   "source": [
    "print(parser.get_best_date(3))"
   ]
  },
  {
   "cell_type": "code",
   "execution_count": 15,
   "metadata": {},
   "outputs": [],
   "source": [
    "Text5 = \"John will not be at the office the 29th\""
   ]
  },
  {
   "cell_type": "code",
   "execution_count": 16,
   "metadata": {},
   "outputs": [
    {
     "name": "stdout",
     "output_type": "stream",
     "text": [
      "([datetime.date(2019, 1, 28), datetime.date(2019, 1, 29)], ['I', 'the 28th'])\n"
     ]
    }
   ],
   "source": [
    "parser.manage_text(Text5)\n",
    "print(parser.get_best_date(3))"
   ]
  },
  {
   "cell_type": "code",
   "execution_count": 17,
   "metadata": {},
   "outputs": [
    {
     "name": "stdout",
     "output_type": "stream",
     "text": [
      "([datetime.date(2019, 1, 28), datetime.date(2019, 1, 29), datetime.date(2019, 1, 31)], ['I', 'the 28th'])\n"
     ]
    }
   ],
   "source": [
    "Text5 = \"John will not be at the office the 31st\"\n",
    "parser.manage_text(Text5)\n",
    "print(parser.get_best_date(3))"
   ]
  },
  {
   "cell_type": "code",
   "execution_count": 18,
   "metadata": {},
   "outputs": [
    {
     "data": {
      "text/plain": [
       "0"
      ]
     },
     "execution_count": 18,
     "metadata": {},
     "output_type": "execute_result"
    }
   ],
   "source": [
    "import datetime\n",
    "datetime.date(2019, 1, 28).weekday()\n"
   ]
  },
  {
   "cell_type": "code",
   "execution_count": 19,
   "metadata": {},
   "outputs": [],
   "source": [
    "Text6 = \"And Diana come back on wednesday, i'll be there. Last chance would be on friday\""
   ]
  },
  {
   "cell_type": "code",
   "execution_count": 20,
   "metadata": {},
   "outputs": [
    {
     "name": "stdout",
     "output_type": "stream",
     "text": [
      "([datetime.date(2019, 1, 30), datetime.date(2019, 2, 1), datetime.date(2019, 1, 28)], ['Diana'])\n"
     ]
    }
   ],
   "source": [
    "parser.manage_text(Text6)\n",
    "print(parser.get_best_date(3))"
   ]
  },
  {
   "cell_type": "code",
   "execution_count": 21,
   "metadata": {},
   "outputs": [],
   "source": [
    "Text7 = \"Wednesday the french are not working\""
   ]
  },
  {
   "cell_type": "code",
   "execution_count": 22,
   "metadata": {},
   "outputs": [
    {
     "name": "stdout",
     "output_type": "stream",
     "text": [
      "([datetime.date(2019, 2, 1), datetime.date(2019, 1, 28), datetime.date(2019, 1, 29)], ['chance'])\n"
     ]
    }
   ],
   "source": [
    "parser.manage_text(Text7)\n",
    "print(parser.get_best_date(3))"
   ]
  },
  {
   "cell_type": "code",
   "execution_count": 23,
   "metadata": {},
   "outputs": [],
   "source": [
    "Text8 = \"the 02/01 is ok for me,  or in one month\""
   ]
  },
  {
   "cell_type": "code",
   "execution_count": 24,
   "metadata": {},
   "outputs": [
    {
     "name": "stdout",
     "output_type": "stream",
     "text": [
      "([datetime.date(2019, 2, 1), datetime.date(2019, 1, 28), datetime.date(2019, 1, 29)], ['chance'])\n"
     ]
    }
   ],
   "source": [
    "parser.manage_text(Text8)\n",
    "print(parser.get_best_date(3))"
   ]
  },
  {
   "cell_type": "code",
   "execution_count": 25,
   "metadata": {},
   "outputs": [
    {
     "name": "stdout",
     "output_type": "stream",
     "text": [
      "['it', 'John']\n"
     ]
    }
   ],
   "source": [
    "print(parser.get_availability(datetime.date(2019, 1, 29)))"
   ]
  },
  {
   "cell_type": "code",
   "execution_count": null,
   "metadata": {},
   "outputs": [],
   "source": []
  },
  {
   "cell_type": "code",
   "execution_count": null,
   "metadata": {},
   "outputs": [],
   "source": []
  }
 ],
 "metadata": {
  "kernelspec": {
   "display_name": "Python 3",
   "language": "python",
   "name": "python3"
  },
  "language_info": {
   "codemirror_mode": {
    "name": "ipython",
    "version": 3
   },
   "file_extension": ".py",
   "mimetype": "text/x-python",
   "name": "python",
   "nbconvert_exporter": "python",
   "pygments_lexer": "ipython3",
   "version": "3.7.1"
  }
 },
 "nbformat": 4,
 "nbformat_minor": 2
}
