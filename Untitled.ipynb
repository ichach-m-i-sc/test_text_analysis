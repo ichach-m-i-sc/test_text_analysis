{
 "cells": [
  {
   "cell_type": "code",
   "execution_count": 1,
   "metadata": {},
   "outputs": [],
   "source": [
    "import dateparser as dp\n",
    "import string\n",
    "exclude = set(string.punctuation)\n",
    "\n",
    "import spacy\n",
    "from spacy_hunspell import spaCyHunSpell\n",
    "\n",
    "# load nlp parser with spellchecker\n",
    "nlp = spacy.load('en')\n",
    "hunspell = spaCyHunSpell(nlp, ('./src/hunspell/en_US.dic', './src/hunspell/en_US.aff'))\n",
    "\n",
    "nlp.add_pipe(hunspell)"
   ]
  },
  {
   "cell_type": "code",
   "execution_count": 3,
   "metadata": {},
   "outputs": [],
   "source": [
    "def tokenize(sentence):\n",
    "    tokenized_sentence = []\n",
    "    for token in sentence.split(' '): # simplest split is\n",
    "        token = ''.join(ch for ch in token if ch not in exclude)\n",
    "        if token != '':\n",
    "            tokenized_sentence.append(token.lower())\n",
    "    return ' '.join(tokenized_sentence)"
   ]
  },
  {
   "cell_type": "code",
   "execution_count": 32,
   "metadata": {},
   "outputs": [],
   "source": [
    "def correction_spacy(parsed):\n",
    "    corrected = []\n",
    "    for w in parsed.doc:\n",
    "        if not(w._.hunspell_spell):\n",
    "            corrected.append(str(w._.hunspell_suggest[0]))\n",
    "        else:\n",
    "            corrected.append(str(w))\n",
    "    return nlp(' '.join(corrected))"
   ]
  },
  {
   "cell_type": "code",
   "execution_count": 37,
   "metadata": {},
   "outputs": [],
   "source": [
    "def get_date_sentence(sentence):\n",
    "    date_in_sentence = []\n",
    "    for entity in sentence.ents:\n",
    "        if entity.label_==\"DATE\":\n",
    "            date_in_sentence.append(entity.text)\n",
    "    return date_in_sentence"
   ]
  },
  {
   "cell_type": "code",
   "execution_count": 47,
   "metadata": {},
   "outputs": [],
   "source": [
    "# Date extraction\n",
    "def time_convert(list_str_date):\n",
    "    return [dp.parse(w) for w in list_str_date]\n"
   ]
  },
  {
   "cell_type": "code",
   "execution_count": 26,
   "metadata": {},
   "outputs": [],
   "source": [
    "input_text = \"This is a test text, which mean i am avalable  the 24th of febraury, and tomorrow\""
   ]
  },
  {
   "cell_type": "code",
   "execution_count": 30,
   "metadata": {},
   "outputs": [
    {
     "name": "stdout",
     "output_type": "stream",
     "text": [
      "this is a test text which mean i am avalable the 24th of febraury and tomorrow\n"
     ]
    }
   ],
   "source": [
    "## First Task, cleaning Data\n",
    "\n",
    "input_text = tokenize(input_text)\n",
    "\n",
    "print(input_text)"
   ]
  },
  {
   "cell_type": "code",
   "execution_count": 31,
   "metadata": {},
   "outputs": [],
   "source": [
    "## Next, the text is parse with nlp from Spacy\n",
    "parsed = nlp(input_text)"
   ]
  },
  {
   "cell_type": "code",
   "execution_count": 39,
   "metadata": {},
   "outputs": [
    {
     "name": "stdout",
     "output_type": "stream",
     "text": [
      "this is a test text which mean i am available the 24th of February and tomorrow\n",
      "['the 24th of February', 'tomorrow']\n"
     ]
    }
   ],
   "source": [
    "# Spellcheck\n",
    "corrected = correction_spacy(parsed)\n",
    "print(corrected)"
   ]
  },
  {
   "cell_type": "code",
   "execution_count": 46,
   "metadata": {},
   "outputs": [
    {
     "name": "stdout",
     "output_type": "stream",
     "text": [
      "['the 24th of February', 'tomorrow']\n"
     ]
    }
   ],
   "source": [
    "# Date extraction\n",
    "dates_str = get_date_sentence(corrected)\n",
    "print(dates_str)"
   ]
  },
  {
   "cell_type": "code",
   "execution_count": 48,
   "metadata": {},
   "outputs": [
    {
     "name": "stdout",
     "output_type": "stream",
     "text": [
      "[datetime.datetime(2019, 2, 24, 0, 0), datetime.datetime(2019, 1, 27, 20, 9, 0, 563482)]\n"
     ]
    }
   ],
   "source": [
    "# Date conversion\n",
    "dates = time_convert(dates_str)\n",
    "print(dates)"
   ]
  }
 ],
 "metadata": {
  "kernelspec": {
   "display_name": "Python 3",
   "language": "python",
   "name": "python3"
  },
  "language_info": {
   "codemirror_mode": {
    "name": "ipython",
    "version": 3
   },
   "file_extension": ".py",
   "mimetype": "text/x-python",
   "name": "python",
   "nbconvert_exporter": "python",
   "pygments_lexer": "ipython3",
   "version": "3.7.1"
  }
 },
 "nbformat": 4,
 "nbformat_minor": 2
}
