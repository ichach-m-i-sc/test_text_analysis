{
 "cells": [
  {
   "cell_type": "code",
   "execution_count": 5,
   "metadata": {},
   "outputs": [],
   "source": [
    "from textblob import TextBlob"
   ]
  },
  {
   "cell_type": "code",
   "execution_count": 7,
   "metadata": {},
   "outputs": [],
   "source": [
    "b = TextBlob(\"Simple is better than complex.\")"
   ]
  },
  {
   "cell_type": "code",
   "execution_count": 8,
   "metadata": {},
   "outputs": [
    {
     "name": "stdout",
     "output_type": "stream",
     "text": [
      "Simple is better than complex.\n"
     ]
    }
   ],
   "source": [
    "print(b)"
   ]
  },
  {
   "cell_type": "code",
   "execution_count": 10,
   "metadata": {},
   "outputs": [
    {
     "name": "stdout",
     "output_type": "stream",
     "text": [
      "['simple']\n"
     ]
    }
   ],
   "source": [
    "print(b.noun_phrases)"
   ]
  },
  {
   "cell_type": "code",
   "execution_count": 12,
   "metadata": {},
   "outputs": [
    {
     "name": "stdout",
     "output_type": "stream",
     "text": [
      "['Simple', 'is', 'better', 'than', 'complex']\n"
     ]
    }
   ],
   "source": [
    "print(b.words)"
   ]
  },
  {
   "cell_type": "code",
   "execution_count": 14,
   "metadata": {},
   "outputs": [
    {
     "name": "stdout",
     "output_type": "stream",
     "text": [
      "Sentiment(polarity=0.06666666666666667, subjectivity=0.41904761904761906)\n"
     ]
    }
   ],
   "source": [
    "print(b.sentiment)"
   ]
  },
  {
   "cell_type": "code",
   "execution_count": 40,
   "metadata": {},
   "outputs": [
    {
     "name": "stdout",
     "output_type": "stream",
     "text": [
      "Sentiment(polarity=0.5, subjectivity=0.5, assessments=[(['better'], 0.5, 0.5, None)])\n",
      "[]\n",
      "Sentiment(polarity=-0.4, subjectivity=0.6, assessments=[(['worse'], -0.4, 0.6, None)])\n"
     ]
    }
   ],
   "source": [
    "Test = TextBlob(\"It's better the 7th of february\")\n",
    "\n",
    "print(Test.sentiment_assessments)\n",
    "\n",
    "Test2 = TextBlob(\"I am worse\")\n",
    "print(Test2.noun_phrases)\n",
    "print(Test2.sentiment_assessments)"
   ]
  },
  {
   "cell_type": "code",
   "execution_count": 32,
   "metadata": {},
   "outputs": [
    {
     "name": "stdout",
     "output_type": "stream",
     "text": [
      "Sentiment(polarity=-0.35, subjectivity=0.6000000000000001, assessments=[(['not', 'good'], -0.35, 0.6000000000000001, None)])\n",
      "Sentiment(polarity=0.7, subjectivity=0.6000000000000001, assessments=[(['good'], 0.7, 0.6000000000000001, None)])\n"
     ]
    }
   ],
   "source": [
    "Test = TextBlob(\"not good\")\n",
    "\n",
    "print(Test.sentiment_assessments)\n",
    "\n",
    "Test2 = TextBlob(\"good\")\n",
    "\n",
    "print(Test2.sentiment_assessments)"
   ]
  },
  {
   "cell_type": "code",
   "execution_count": 41,
   "metadata": {},
   "outputs": [],
   "source": [
    "import dateparser as dp"
   ]
  },
  {
   "cell_type": "code",
   "execution_count": 65,
   "metadata": {},
   "outputs": [
    {
     "name": "stdout",
     "output_type": "stream",
     "text": [
      "2019-01-04 00:00:00\n"
     ]
    }
   ],
   "source": [
    "text = 'the 4th of january'\n",
    "print(dp.parse(text))\n"
   ]
  },
  {
   "cell_type": "code",
   "execution_count": 47,
   "metadata": {},
   "outputs": [
    {
     "name": "stdout",
     "output_type": "stream",
     "text": [
      "None\n"
     ]
    }
   ],
   "source": [
    "text = 'ok the 4th of january'\n",
    "print(dp.parse(text))\n"
   ]
  },
  {
   "cell_type": "code",
   "execution_count": 48,
   "metadata": {},
   "outputs": [],
   "source": [
    "import datefinder as df"
   ]
  },
  {
   "cell_type": "code",
   "execution_count": 50,
   "metadata": {},
   "outputs": [
    {
     "name": "stdout",
     "output_type": "stream",
     "text": [
      "2019-01-04 00:00:00\n"
     ]
    }
   ],
   "source": [
    "text = 'ok the 4th of january'\n",
    "matches = df.find_dates(text)\n",
    "for match in matches:\n",
    "    print(match)"
   ]
  },
  {
   "cell_type": "code",
   "execution_count": 66,
   "metadata": {},
   "outputs": [
    {
     "name": "stdout",
     "output_type": "stream",
     "text": [
      "2019-01-04 00:00:00\n",
      "2019-09-05 17:00:00\n"
     ]
    }
   ],
   "source": [
    "text = \"ok let's try the 4th of january but not the 5th of september 5pm\"\n",
    "matches = df.find_dates(text)\n",
    "for match in matches:\n",
    "    print(match)"
   ]
  }
 ],
 "metadata": {
  "kernelspec": {
   "display_name": "Python 3",
   "language": "python",
   "name": "python3"
  },
  "language_info": {
   "codemirror_mode": {
    "name": "ipython",
    "version": 3
   },
   "file_extension": ".py",
   "mimetype": "text/x-python",
   "name": "python",
   "nbconvert_exporter": "python",
   "pygments_lexer": "ipython3",
   "version": "3.7.1"
  }
 },
 "nbformat": 4,
 "nbformat_minor": 2
}
